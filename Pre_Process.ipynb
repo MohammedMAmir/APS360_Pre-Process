{
  "nbformat": 4,
  "nbformat_minor": 0,
  "metadata": {
    "colab": {
      "provenance": [],
      "mount_file_id": "1JYeFjoIjhRZS6QYAx3AYr8Y-nhhRMljw",
      "authorship_tag": "ABX9TyNGuSaxaBiwAqMQXzNNtaVH",
      "include_colab_link": true
    },
    "kernelspec": {
      "name": "python3",
      "display_name": "Python 3"
    },
    "language_info": {
      "name": "python"
    }
  },
  "cells": [
    {
      "cell_type": "markdown",
      "metadata": {
        "id": "view-in-github",
        "colab_type": "text"
      },
      "source": [
        "<a href=\"https://colab.research.google.com/github/YaBroMo/APS360_Pre-Process/blob/main/Pre_Process.ipynb\" target=\"_parent\"><img src=\"https://colab.research.google.com/assets/colab-badge.svg\" alt=\"Open In Colab\"/></a>"
      ]
    },
    {
      "cell_type": "code",
      "execution_count": 1,
      "metadata": {
        "id": "WFVoMrOpQO4x"
      },
      "outputs": [],
      "source": [
        "import pandas as pd\n",
        "import numpy as np\n",
        "import seaborn as sns\n",
        "import matplotlib.pyplot as plt\n",
        "\n",
        "import cv2\n",
        "import os\n",
        "import numpy as np\n",
        "from skimage import transform\n",
        "from keras.preprocessing.image import ImageDataGenerator\n",
        "from IPython.display import display\n",
        "import io\n",
        "import os\n",
        "import numpy as np\n",
        "from PIL import Image, ImageEnhance\n",
        "\n"
      ]
    }
  ]
}